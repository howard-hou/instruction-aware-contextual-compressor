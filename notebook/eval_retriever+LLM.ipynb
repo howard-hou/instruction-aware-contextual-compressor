{
 "cells": [
  {
   "cell_type": "markdown",
   "id": "e13c52c9-d093-4800-ad05-efcf9cf48967",
   "metadata": {},
   "source": [
    "## 1. Setup Environment"
   ]
  },
  {
   "cell_type": "markdown",
   "id": "d58709ad-e2cd-4cb4-88f9-72b991aa2126",
   "metadata": {},
   "source": [
    "### 1.1 Install package"
   ]
  },
  {
   "cell_type": "code",
   "execution_count": 1,
   "id": "68c67427-5804-47b0-952b-214052bd5d21",
   "metadata": {},
   "outputs": [],
   "source": [
    "from IPython.display import clear_output\n",
    "!pip install sentence_transformers datasets\n",
    "!pip install faiss-cpu\n",
    "!pip install rouge-chinese \n",
    "clear_output()"
   ]
  },
  {
   "cell_type": "markdown",
   "id": "e34e1fd7",
   "metadata": {},
   "source": [
    "### 1.2 setup chatgpt"
   ]
  },
  {
   "cell_type": "code",
   "execution_count": null,
   "id": "848ed4a8",
   "metadata": {},
   "outputs": [],
   "source": [
    "import openai\n",
    "\n",
    "openai.api_key = \"YOUR_API_KEY\"\n",
    "\n",
    "# setup chatgpt api and model\n",
    "def get_chat_response(prompt, top_p=0.1):\n",
    "    response_data = openai.ChatCompletion.create(\n",
    "        model=\"gpt-3.5-turbo\",\n",
    "        top_p=top_p,\n",
    "        messages=[\n",
    "            {\"role\": \"system\", \"content\": \"You are a helpful assistant.\"},\n",
    "            {\"role\": \"user\", \"content\": prompt},\n",
    "        ],\n",
    "    )\n",
    "    return response_data[\"choices\"][0][\"message\"][\"content\"]"
   ]
  },
  {
   "cell_type": "markdown",
   "id": "4d2db9c1-8648-4e1e-abda-c96d114beccf",
   "metadata": {},
   "source": [
    "## 2. Get Ground Truth\n",
    "\n",
    "Ground truth = correct doc + chatgpt\n",
    "用正确的文档+chatgpt生成的回复作为ground truth, 应该是upper bound。\n",
    "\n",
    "优于检索回来的多个文档 + chatgpt生成的回复\n",
    "\n",
    "首先检索回来的文档可能不是正确的，其次检索回来的文档会有噪音，可能不是排在第一，可能要带上其他噪音文档一起输入给chatgpt，会影响chatgpt生成的回复\n",
    "### 2.1 load test dataset"
   ]
  },
  {
   "cell_type": "code",
   "execution_count": 3,
   "id": "7bb6904a-f1cc-4d53-a5c6-868ebb6ef7d3",
   "metadata": {},
   "outputs": [],
   "source": [
    "import json\n",
    "from tqdm import tqdm\n",
    "from datasets import load_from_disk\n",
    "\n",
    "wikicn_dataset = load_from_disk('../data/wikicn/wikipedia-cn-20230720-dataset/')\n",
    "print(wikicn_dataset)\n",
    "print(wikicn_dataset['test'][0])\n",
    "documents = json.load(open(\"../data/wikicn/wikipedia-cn-20230720-documents_all.json\"))\n",
    "docid2doc = {doc['docid']: doc for doc in documents}\n",
    "sample = wikicn_dataset['test'][0]\n",
    "docid = sample['docid']\n",
    "doc = docid2doc[docid]\n",
    "print(doc)"
   ]
  },
  {
   "cell_type": "markdown",
   "id": "e80b56f2",
   "metadata": {},
   "source": [
    "### 2.2 chatgpt generate response"
   ]
  },
  {
   "cell_type": "code",
   "execution_count": 4,
   "id": "e3b7ff1e",
   "metadata": {},
   "outputs": [],
   "source": [
    "# design a prompt here\n",
    "prompt = \"根据以下文本，回答问题：\\n\"\n",
    "prompt += f\"问题：{sample['question']}\\n\"\n",
    "prompt += f\"文本：{doc['document']}\\n\"\n",
    "prompt += \"答案：\"\n",
    "print(prompt)"
   ]
  },
  {
   "cell_type": "code",
   "execution_count": null,
   "id": "7ecd03c3",
   "metadata": {},
   "outputs": [],
   "source": [
    "# get response from chatgpt\n",
    "response = get_chat_response(prompt)\n",
    "print(response)"
   ]
  },
  {
   "cell_type": "markdown",
   "id": "1cc74bd4-0869-4ecb-89de-1997acc308b0",
   "metadata": {},
   "source": [
    "## 4. Evaluate\n",
    "### 4.1 Evaluate retrieval"
   ]
  },
  {
   "cell_type": "code",
   "execution_count": 17,
   "id": "b87f3f3b-bff8-4ef7-abe0-d1785b585666",
   "metadata": {},
   "outputs": [],
   "source": [
    "def compute_topk_accuracy(predictions, true_labels, topk=5):\n",
    "    assert len(predictions) == len(true_labels), \"预测结果和真实标签的数量必须相同\"\n",
    "    \n",
    "    num_correct = 0\n",
    "    for pred, true_label in zip(predictions, true_labels):\n",
    "        if true_label in pred[:topk]:\n",
    "            num_correct += 1\n",
    "    \n",
    "    top1_accuracy = num_correct / len(predictions)\n",
    "    return top1_accuracy"
   ]
  },
  {
   "cell_type": "code",
   "execution_count": 19,
   "id": "525e4540-8e9a-41b9-af90-47a2e89c7407",
   "metadata": {},
   "outputs": [
    {
     "name": "stderr",
     "output_type": "stream",
     "text": [
      "100%|██████████| 1761612/1761612 [06:57<00:00, 4214.95it/s]\n"
     ]
    }
   ],
   "source": [
    "from tqdm import tqdm\n",
    "\n",
    "questions, predictions, targets = [], [], []\n",
    "for s in tqdm(qa_dataset_with_retrieval):\n",
    "    questions.append(s[\"question\"])\n",
    "    predictions.append(s[\"retrieved_docids\"])\n",
    "    targets.append(s[\"docid\"])"
   ]
  },
  {
   "cell_type": "code",
   "execution_count": 20,
   "id": "45558dc7-44fc-42df-a6f6-cc9c0b3b118b",
   "metadata": {},
   "outputs": [
    {
     "name": "stdout",
     "output_type": "stream",
     "text": [
      "top1: 0.7622456023233266\n",
      "top3: 0.8342580545545785\n",
      "top5: 0.851998623987575\n",
      "top10: 0.8704555827276381\n",
      "top20: 0.8856388353394504\n",
      "top50: 0.9032709813511716\n",
      "top100: 0.9158253917434713\n"
     ]
    }
   ],
   "source": [
    "for k in [1, 3, 5, 10, 20, 50, 100]:\n",
    "    topk_acc = compute_topk_accuracy(predictions, targets, topk=k)\n",
    "    print(f\"top{k}:\", topk_acc)"
   ]
  },
  {
   "cell_type": "markdown",
   "id": "e7e512d7-7fa4-40d2-97c1-8c1e0380956c",
   "metadata": {},
   "source": [
    "### 4.2 check badcase\n",
    "因为我觉得top100都无法召回的问题，可能是低质量问题"
   ]
  },
  {
   "cell_type": "code",
   "execution_count": 21,
   "id": "fea3c1b4-f744-4b60-90f2-e93baa4e2346",
   "metadata": {},
   "outputs": [
    {
     "name": "stdout",
     "output_type": "stream",
     "text": [
      "[\n",
      "    [\n",
      "        \"释道融的师父喜欢他的什么特点？\",\n",
      "        \"释道融的师父喜欢他的精神、风采。\"\n",
      "    ],\n",
      "    [\n",
      "        \"什么是水库诱发地震的震中？\",\n",
      "        \"水库诱发地震的震中多在库底和水库边缘。\"\n",
      "    ],\n",
      "    [\n",
      "        \"《如果云知道》的专辑文案中，哪首歌曲获得了金曲奖的最佳作词奖？\",\n",
      "        \"《如果云知道》的专辑文案中，《如果云知道》获得了金曲奖的最佳作词奖。\"\n",
      "    ],\n",
      "    [\n",
      "        \"Who is Gingerbread?\",\n",
      "        \"Gingerbread is a band founded by Hong Kong singer Leung Wing Fook under the identity of \\\"Ming Fuk Yi\\\".\"\n",
      "    ],\n",
      "    [\n",
      "        \"双标紫斑蝶的分布范围是哪些地区？\",\n",
      "        \"双标紫斑蝶广泛分布于南亚、东南亚、澳洲、新几内亚等地。台湾地区于本岛中海拔地区可见，多以特有亚种归类。\"\n",
      "    ]\n",
      "]\n"
     ]
    }
   ],
   "source": [
    "from random import randrange\n",
    "# check qa quality\n",
    "index = [randrange(len(qa_dataset_with_retrieval)) for i in range(5)]\n",
    "small_dataset = qa_dataset_with_retrieval.select(index).remove_columns([\"retrieved_docids\"])\n",
    "print(json.dumps([(i[\"question\"], i[\"answer\"]) for i in small_dataset], ensure_ascii=False, indent=4))"
   ]
  },
  {
   "cell_type": "code",
   "execution_count": 22,
   "id": "2bbf2a97-543b-4bf8-848c-1a8744cd0f38",
   "metadata": {},
   "outputs": [],
   "source": [
    "def check_badcase(questions, predictions, true_labels, topk=5):\n",
    "    assert len(predictions) == len(true_labels), \"预测结果和真实标签的数量必须相同\"\n",
    "    \n",
    "    bad_cases = []\n",
    "    for ques, pred, true_label in zip(questions, predictions, true_labels):\n",
    "        if true_label not in pred[:topk]:\n",
    "            bad_cases.append(ques)\n",
    "    return bad_cases"
   ]
  },
  {
   "cell_type": "code",
   "execution_count": 23,
   "id": "65d8a741-7105-42c5-9f4d-7b99f8a5e6ec",
   "metadata": {},
   "outputs": [
    {
     "name": "stdout",
     "output_type": "stream",
     "text": [
      "148283 ['林肯是如何成为律师和议员的？', '与上一张商贩单曲《This Silence Is Mine/你与SciencE》相隔多久？', '歌词网站「歌Net」于作品发行前先行揭露了哪首歌曲的歌词？', '官方网站公开了哪首歌曲的音乐录像带无声制作花絮？', '谁是埃塞俄比亚运动员德斯塔·阿斯杰多姆？', '谁是苏联跳高运动员谢尔希·谢纽科夫？', '谁是波兰政治家彼得·雅罗谢维奇？', '谁是美国高尔夫球手奇克哈伯特？', '谁是沙特阿拉伯叛教者巴巴拉·麦克林托克？', '谁是美国遗传学家约翰尼·莫蒂默？']\n"
     ]
    }
   ],
   "source": [
    "top100_bad_case = check_badcase(questions, predictions, targets, topk=100)\n",
    "print(len(top100_bad_case), top100_bad_case[:10])"
   ]
  },
  {
   "cell_type": "code",
   "execution_count": 24,
   "id": "5c23001c-bc9e-48ce-982d-b97d1430577d",
   "metadata": {},
   "outputs": [
    {
     "name": "stdout",
     "output_type": "stream",
     "text": [
      "20931 ['节目的收官演唱会叫什么名字？', '如果投手因为球队的守备失误而失分的话，是否列入责失分当中？', '该电影获得了哪些奖项和提名？', 'What did Roger Taylor study at university?', '该公约的目的是什么？', '该公约的条款有哪些？', '勇者斗恶龙系列在全球出货量是多少？', '苏高利条约是否有效？', '宁德时代的发展历史是怎样的？', '宁德时代被哪个国家选为“国家名片”？']\n"
     ]
    }
   ],
   "source": [
    "top50_bad_case = check_badcase(questions, predictions, targets, topk=50)\n",
    "top50_bad_case_diff = [q for q in top50_bad_case if q not in top100_bad_case]\n",
    "print(len(top50_bad_case_diff), top50_bad_case_diff[:10])"
   ]
  },
  {
   "cell_type": "code",
   "execution_count": 25,
   "id": "cce408cd-321a-4833-b89c-fac067ace888",
   "metadata": {},
   "outputs": [
    {
     "name": "stdout",
     "output_type": "stream",
     "text": [
      "201460 30053 ['E组的比赛是在哪一天举行的？', 'What happened during the 1997-1998 civil war in the Republic of Congo?', '什么是飓风？', '松岛的陆地面积是多少？', \"What is Au Kin Yee's affiliation with the Hong Kong film industry?\", 'Who is the current principal of YY3?', '什么是最佳化问题？', '少女的判决是什么？', '该集的首播前，HBO在网络上播出了什么？', '2002年2月17日中国冬奥会历史上的第一枚金牌是谁获得的？']\n"
     ]
    }
   ],
   "source": [
    "top20_bad_case = check_badcase(questions, predictions, targets, topk=20)\n",
    "top20_bad_case_diff = [q for q in top20_bad_case if q not in top50_bad_case]\n",
    "top20_bad_case_diff_sampled = [top20_bad_case_diff[randrange(len(top20_bad_case_diff))] for i in range(10)]\n",
    "print(len(top20_bad_case), len(top20_bad_case_diff), top20_bad_case_diff_sampled)"
   ]
  },
  {
   "cell_type": "markdown",
   "id": "543a1567-d7f9-481f-ab6a-a675d26840ab",
   "metadata": {},
   "source": [
    "##### 观察： top20未召回的问题，确实不少是低质量问题，也有一些是比较难的问题。也是召回系统的问题，一些实体无法正确召回"
   ]
  },
  {
   "cell_type": "markdown",
   "id": "355a9397-e774-4c94-ad86-8c0623f671c2",
   "metadata": {},
   "source": [
    "## 5. Filtering\n",
    "保留top20内能召回正确文档的问题"
   ]
  },
  {
   "cell_type": "code",
   "execution_count": 26,
   "id": "9fc4f3af-6801-4932-bede-474d873afdb4",
   "metadata": {},
   "outputs": [
    {
     "data": {
      "application/vnd.jupyter.widget-view+json": {
       "model_id": "7b923e2f2f8d452cabb235cd7c6773b2",
       "version_major": 2,
       "version_minor": 0
      },
      "text/plain": [
       "Filter:   0%|          | 0/1761612 [00:00<?, ? examples/s]"
      ]
     },
     "metadata": {},
     "output_type": "display_data"
    },
    {
     "name": "stdout",
     "output_type": "stream",
     "text": [
      "Dataset({\n",
      "    features: ['question', 'answer', 'docid', 'retrieved_docids', 'retrieved_doc_scores'],\n",
      "    num_rows: 1558310\n",
      "})\n"
     ]
    }
   ],
   "source": [
    "qa_dataset_filtered = qa_dataset_with_retrieval.filter(lambda x: x[\"question\"] not in top20_bad_case)\n",
    "print(qa_dataset_filtered)"
   ]
  },
  {
   "cell_type": "markdown",
   "id": "51bb59b5",
   "metadata": {},
   "source": [
    "过滤重复问题"
   ]
  },
  {
   "cell_type": "code",
   "execution_count": 30,
   "id": "3c39f532",
   "metadata": {},
   "outputs": [
    {
     "data": {
      "text/plain": [
       "[('祁汉是哪里人？', 21),\n",
       " ('好小子是什么游戏？', 19),\n",
       " ('小串成重的父亲是谁？', 18),\n",
       " ('陈横是谁的部将？', 18),\n",
       " ('常宁市有哪些文物保护单位？', 16),\n",
       " ('剑南道的治所在哪个县？', 16),\n",
       " ('陈志钊在哪个足球俱乐部效力过？', 16),\n",
       " ('李琰的女儿适谁？', 15),\n",
       " ('洋流的分类有哪些？', 15),\n",
       " ('吕壹为什么被处死？', 14)]"
      ]
     },
     "execution_count": 30,
     "metadata": {},
     "output_type": "execute_result"
    }
   ],
   "source": [
    "from collections import Counter\n",
    "c = Counter(qa_dataset_filtered[\"question\"])\n",
    "c.most_common(10)"
   ]
  },
  {
   "cell_type": "code",
   "execution_count": 29,
   "id": "5ec61ae4",
   "metadata": {},
   "outputs": [
    {
     "data": {
      "text/plain": [
       "Dataset({\n",
       "    features: ['question', 'answer', 'docid', 'retrieved_docids', 'retrieved_doc_scores'],\n",
       "    num_rows: 1524340\n",
       "})"
      ]
     },
     "execution_count": 29,
     "metadata": {},
     "output_type": "execute_result"
    }
   ],
   "source": [
    "import pandas as pd\n",
    "\n",
    "qa_df = pd.DataFrame(qa_dataset_filtered)\n",
    "qa_df.drop_duplicates(subset=['question'], inplace=True)\n",
    "qa_dataset_dedup = Dataset.from_pandas(qa_df).remove_columns(['__index_level_0__'])\n",
    "qa_dataset_dedup"
   ]
  },
  {
   "cell_type": "markdown",
   "id": "661c7175",
   "metadata": {},
   "source": [
    "## 6. Train and test split"
   ]
  },
  {
   "cell_type": "code",
   "execution_count": 31,
   "id": "30817850-c205-424d-98bd-d46836282a0b",
   "metadata": {},
   "outputs": [
    {
     "name": "stdout",
     "output_type": "stream",
     "text": [
      "DatasetDict({\n",
      "    train: Dataset({\n",
      "        features: ['question', 'answer', 'docid', 'retrieved_docids', 'retrieved_doc_scores'],\n",
      "        num_rows: 1509096\n",
      "    })\n",
      "    test: Dataset({\n",
      "        features: ['question', 'answer', 'docid', 'retrieved_docids', 'retrieved_doc_scores'],\n",
      "        num_rows: 15244\n",
      "    })\n",
      "})\n"
     ]
    },
    {
     "data": {
      "application/vnd.jupyter.widget-view+json": {
       "model_id": "db500a2babec4f9a86d28b40af9fb9b2",
       "version_major": 2,
       "version_minor": 0
      },
      "text/plain": [
       "Saving the dataset (0/8 shards):   0%|          | 0/1509096 [00:00<?, ? examples/s]"
      ]
     },
     "metadata": {},
     "output_type": "display_data"
    },
    {
     "data": {
      "application/vnd.jupyter.widget-view+json": {
       "model_id": "5b1a721b741f48e391ee11ce1ebd6e4e",
       "version_major": 2,
       "version_minor": 0
      },
      "text/plain": [
       "Saving the dataset (0/1 shards):   0%|          | 0/15244 [00:00<?, ? examples/s]"
      ]
     },
     "metadata": {},
     "output_type": "display_data"
    }
   ],
   "source": [
    "qa_dataset_with_retrieval_output_path = \"data/wikiqa/wikipedia-cn-20230720-dataset\"\n",
    "qa_dataset_train_test = qa_dataset_dedup.train_test_split(test_size=0.01, shuffle=True)\n",
    "print(qa_dataset_train_test)\n",
    "qa_dataset_train_test.save_to_disk(qa_dataset_with_retrieval_output_path)"
   ]
  },
  {
   "cell_type": "code",
   "execution_count": null,
   "id": "b9e7a37f",
   "metadata": {},
   "outputs": [],
   "source": []
  },
  {
   "cell_type": "markdown",
   "id": "689c4d2f",
   "metadata": {},
   "source": [
    "## 7. evaluate retrieval on testset"
   ]
  },
  {
   "cell_type": "code",
   "execution_count": null,
   "id": "7c7c0adc",
   "metadata": {},
   "outputs": [],
   "source": [
    "dataset_path = \"data/\""
   ]
  }
 ],
 "metadata": {
  "kernelspec": {
   "display_name": "Python 3 (ipykernel)",
   "language": "python",
   "name": "python3"
  },
  "language_info": {
   "codemirror_mode": {
    "name": "ipython",
    "version": 3
   },
   "file_extension": ".py",
   "mimetype": "text/x-python",
   "name": "python",
   "nbconvert_exporter": "python",
   "pygments_lexer": "ipython3",
   "version": "3.10.8"
  }
 },
 "nbformat": 4,
 "nbformat_minor": 5
}
